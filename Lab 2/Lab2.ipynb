{
  "nbformat": 4,
  "nbformat_minor": 0,
  "metadata": {
    "colab": {
      "provenance": []
    },
    "kernelspec": {
      "name": "python3",
      "display_name": "Python 3"
    },
    "language_info": {
      "name": "python"
    }
  },
  "cells": [
    {
      "cell_type": "markdown",
      "source": [
        "#**Task 01**"
      ],
      "metadata": {
        "id": "UU5f94wFOcXB"
      }
    },
    {
      "cell_type": "markdown",
      "source": [
        "##**Fibonacci Series:**"
      ],
      "metadata": {
        "id": "mOJUjauePj7m"
      }
    },
    {
      "cell_type": "markdown",
      "source": [
        "Iterative Approach"
      ],
      "metadata": {
        "id": "YBQmOfnEP1H2"
      }
    },
    {
      "cell_type": "code",
      "source": [
        "def fibonacci_iterative(n):\n",
        "    fib_sequence = [0, 1]\n",
        "    for i in range(2, n):\n",
        "        next_value = fib_sequence[i-1] + fib_sequence[i-2]\n",
        "        fib_sequence.append(next_value)\n",
        "    return fib_sequence\n",
        "\n",
        "# Example\n",
        "print(fibonacci_iterative(6))"
      ],
      "metadata": {
        "colab": {
          "base_uri": "https://localhost:8080/"
        },
        "id": "BpkQeKSUPzNJ",
        "outputId": "5ab773da-5804-4cd8-f680-5814d01d87d4"
      },
      "execution_count": null,
      "outputs": [
        {
          "output_type": "stream",
          "name": "stdout",
          "text": [
            "[0, 1, 1, 2, 3, 5]\n"
          ]
        }
      ]
    },
    {
      "cell_type": "markdown",
      "source": [
        "Recursive Approach"
      ],
      "metadata": {
        "id": "EBPZgPdXQoER"
      }
    },
    {
      "cell_type": "code",
      "source": [
        "def fibonacci_recursive(n):\n",
        "    if n <= 1:\n",
        "        return n\n",
        "    return fibonacci_recursive(n-1) + fibonacci_recursive(n-2)\n",
        "\n",
        "# Example to print first n Fibonacci numbers\n",
        "n = 6\n",
        "fib_sequence = [fibonacci_recursive(i) for i in range(n)]\n",
        "print(fib_sequence)\n"
      ],
      "metadata": {
        "colab": {
          "base_uri": "https://localhost:8080/"
        },
        "id": "YjQ05va5Qt6y",
        "outputId": "9acf6765-1797-4029-b3f3-e4852e6f9ed9"
      },
      "execution_count": null,
      "outputs": [
        {
          "output_type": "stream",
          "name": "stdout",
          "text": [
            "[0, 1, 1, 2, 3, 5]\n"
          ]
        }
      ]
    },
    {
      "cell_type": "markdown",
      "source": [
        "Memoization (Dynamic Programming)"
      ],
      "metadata": {
        "id": "pBipzSr1QwKY"
      }
    },
    {
      "cell_type": "code",
      "source": [
        "def fibonacci_memoization(n, memo={}):\n",
        "    if n in memo:\n",
        "        return memo[n]\n",
        "    if n <= 1:\n",
        "        return n\n",
        "    memo[n] = fibonacci_memoization(n-1, memo) + fibonacci_memoization(n-2, memo)\n",
        "    return memo[n]\n",
        "\n",
        "# Example to print first n Fibonacci numbers\n",
        "n = 6\n",
        "fib_sequence = [fibonacci_memoization(i) for i in range(n)]\n",
        "print(fib_sequence)\n"
      ],
      "metadata": {
        "colab": {
          "base_uri": "https://localhost:8080/"
        },
        "id": "Pwfy7UZTQzZv",
        "outputId": "5b220f5a-5c00-48f0-dc78-14f3a3461edd"
      },
      "execution_count": null,
      "outputs": [
        {
          "output_type": "stream",
          "name": "stdout",
          "text": [
            "[0, 1, 1, 2, 3, 5]\n"
          ]
        }
      ]
    },
    {
      "cell_type": "markdown",
      "source": [
        "Tabulation (Dynamic Programming) Approach"
      ],
      "metadata": {
        "id": "gLIPl8zPQ4VF"
      }
    },
    {
      "cell_type": "code",
      "source": [
        "def fibonacci_tabulation(n):\n",
        "    # Create an array to store the Fibonacci numbers up to n\n",
        "    fib_table = [0] * (n + 1)\n",
        "\n",
        "    # Base cases\n",
        "    fib_table[0] = 0\n",
        "    if n > 0:\n",
        "        fib_table[1] = 1\n",
        "\n",
        "    # Fill the table from index 2 to n\n",
        "    for i in range(2, n + 1):\n",
        "        fib_table[i] = fib_table[i - 1] + fib_table[i - 2]\n",
        "\n",
        "    return fib_table[n]\n",
        "\n",
        "# Example to print the nth Fibonacci number\n",
        "n = 6\n",
        "print(f\"The {n}th Fibonacci number is: {fibonacci_tabulation(n)}\")\n",
        "\n",
        "# To print the entire sequence up to n\n",
        "fib_sequence = [fibonacci_tabulation(i) for i in range(n)]\n",
        "print(f\"Fibonacci sequence up to {n}th number: {fib_sequence}\")\n"
      ],
      "metadata": {
        "colab": {
          "base_uri": "https://localhost:8080/"
        },
        "id": "G_uSYim3Rqzp",
        "outputId": "e810b378-ffe1-4c2e-dc05-822e7be203b2"
      },
      "execution_count": null,
      "outputs": [
        {
          "output_type": "stream",
          "name": "stdout",
          "text": [
            "The 6th Fibonacci number is: 8\n",
            "Fibonacci sequence up to 6th number: [0, 1, 1, 2, 3, 5]\n"
          ]
        }
      ]
    },
    {
      "cell_type": "markdown",
      "source": [
        "##**Task 02**\n",
        "Longest Common Substring (LCS)"
      ],
      "metadata": {
        "id": "PECcUiT7Or2u"
      }
    },
    {
      "cell_type": "code",
      "source": [
        "def longest_common_subsequence(str1,str2):\n",
        "    dp  = [[0 for j in range(len(str2)+1)] for i in range (len(str1)+1)]\n",
        "    for i in range(len(str1)-1,-1,-1):\n",
        "        for j in range(len(str2) -1,-1,-1):\n",
        "            if str1[i] == str2[j]:\n",
        "                dp[i][j] = 1+ dp[i+1][j+1]\n",
        "            else:\n",
        "                dp[i][j] = max(dp[i+1][j],dp[i][j+1])\n",
        "    return dp[0][0]\n",
        "\n",
        "\n",
        "str1='abcd'\n",
        "str2='bccd'\n",
        "\n",
        "print(longest_common_subsequence(str1,str2))"
      ],
      "metadata": {
        "colab": {
          "base_uri": "https://localhost:8080/"
        },
        "id": "1hO8oS1-jckk",
        "outputId": "16d660df-89f7-41e3-b006-1827a7be1dcd"
      },
      "execution_count": null,
      "outputs": [
        {
          "output_type": "stream",
          "name": "stdout",
          "text": [
            "3\n"
          ]
        }
      ]
    },
    {
      "cell_type": "markdown",
      "source": [
        "# **Task 3**\n",
        "Rod Cutting Problem"
      ],
      "metadata": {
        "id": "XEiMClxZjhCB"
      }
    },
    {
      "cell_type": "code",
      "source": [
        "def rod_cutting(prices, n):\n",
        "    # Create a DP array to store maximum value obtainable for each length\n",
        "    dp = [0] * (n + 1)\n",
        "\n",
        "    # Build the table in bottom-up manner\n",
        "    for i in range(1, n + 1):\n",
        "        max_value = 0\n",
        "        for j in range(i):\n",
        "            max_value = max(max_value, prices[j] + dp[i - j - 1])\n",
        "        dp[i] = max_value\n",
        "\n",
        "    return dp[n]\n",
        "\n",
        "# Example usage\n",
        "prices = [1, 5, 8, 9, 10, 17, 17, 20]\n",
        "n = 8\n",
        "print(f\"Maximum Obtainable Value: {rod_cutting(prices, n)}\")"
      ],
      "metadata": {
        "id": "B3_kn7GfjkAF",
        "colab": {
          "base_uri": "https://localhost:8080/"
        },
        "outputId": "bf088692-e8fa-42cc-f1ec-c68c415f0fdf"
      },
      "execution_count": null,
      "outputs": [
        {
          "output_type": "stream",
          "name": "stdout",
          "text": [
            "Maximum Obtainable Value: 22\n"
          ]
        }
      ]
    },
    {
      "cell_type": "markdown",
      "source": [],
      "metadata": {
        "id": "O7sB43zTO3Pi"
      }
    }
  ]
}