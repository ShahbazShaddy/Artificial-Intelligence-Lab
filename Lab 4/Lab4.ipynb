{
  "nbformat": 4,
  "nbformat_minor": 0,
  "metadata": {
    "colab": {
      "provenance": []
    },
    "kernelspec": {
      "name": "python3",
      "display_name": "Python 3"
    },
    "language_info": {
      "name": "python"
    }
  },
  "cells": [
    {
      "cell_type": "markdown",
      "source": [
        "##**Task 01**\n",
        "\n"
      ],
      "metadata": {
        "id": "fminLdN3t3vn"
      }
    },
    {
      "cell_type": "code",
      "execution_count": null,
      "metadata": {
        "colab": {
          "base_uri": "https://localhost:8080/"
        },
        "id": "3TVvwWb8XVxs",
        "outputId": "8a007846-86c2-4d5e-cf0c-f9f37ad70732"
      },
      "outputs": [
        {
          "output_type": "stream",
          "name": "stdout",
          "text": [
            "A : ['B', 'C']\n",
            "B : ['A', 'D']\n",
            "C : ['A', 'D', 'E']\n",
            "D : ['B', 'C', 'E']\n",
            "E : ['C', 'D']\n",
            "\n",
            " After Deletion\n",
            "A : ['B', 'C']\n",
            "B : ['A', 'D']\n",
            "C : ['A', 'D', 'E']\n",
            "D : ['B', 'C']\n",
            "E : ['C']\n"
          ]
        }
      ],
      "source": [
        "class Graph:\n",
        "    def __init__(self):\n",
        "        self.adjacency_list={}\n",
        "    def add(self, node1, node2):\n",
        "        if node1 not in self.adjacency_list:\n",
        "            self.adjacency_list[node1]=[]\n",
        "        if node2 not in self.adjacency_list:\n",
        "            self.adjacency_list[node2]=[]\n",
        "        self.adjacency_list[node1].append(node2)\n",
        "        self.adjacency_list[node2].append(node1)\n",
        "\n",
        "    def delete(self, node1, node2):\n",
        "        if node1 in self.adjacency_list and node2 in self.adjacency_list[node1]:\n",
        "            self.adjacency_list[node1].remove(node2)\n",
        "        if node2 in self.adjacency_list and node1 in self.adjacency_list[node2]:\n",
        "            self.adjacency_list[node2].remove(node1)\n",
        "    def printG(self):\n",
        "        for node in self.adjacency_list:\n",
        "            print(node,':', self.adjacency_list[node])\n",
        "    def getConnectedNodes(self, node):\n",
        "        if node in self.adjacency_list:\n",
        "            return self.adjacency_list[node]\n",
        "        return []\n",
        "    def getEdge(self,node1, node2):\n",
        "        if node1 in self.adjacency_list and node2 in self.adjacency_list[node1]:\n",
        "            return (node1,node2)\n",
        "        return None\n",
        "    def areConnected(self, node1, node2):\n",
        "        if node1 in self.adjacency_list and node2 in self.adjacency_list[node1]:\n",
        "            return True\n",
        "        return False\n",
        "    def isValidPath(self, path):\n",
        "        for i in range(len(path)-1):\n",
        "            if path[i+1] not in self.adjacency_list.get(path[i], []):\n",
        "                return False\n",
        "        return True\n",
        "\n",
        "graph = Graph()\n",
        "graph.add('A', 'B')\n",
        "graph.add('A', 'C')\n",
        "graph.add('B', 'D')\n",
        "graph.add('C', 'D')\n",
        "graph.add('C', 'E')\n",
        "graph.add('D', 'E')\n",
        "\n",
        "graph.printG()\n",
        "graph.delete('D', 'E')\n",
        "print('\\n', 'After Deletion')\n",
        "graph.printG()"
      ]
    },
    {
      "cell_type": "markdown",
      "source": [
        "##**TASK 02**"
      ],
      "metadata": {
        "id": "2VKxT8vwtxMc"
      }
    },
    {
      "cell_type": "code",
      "source": [
        "from collections import deque\n",
        "\n",
        "def bfs(graph, start, goal): ######### FIFO\n",
        "    queue=deque([[start]])\n",
        "    visited=set()\n",
        "    while queue:\n",
        "        path=queue.popleft()\n",
        "        node=path[-1]\n",
        "        if node==goal:\n",
        "            return path\n",
        "        if node not in visited:\n",
        "            for neighbor in graph.getConnectedNodes(node):\n",
        "                newPath=list(path)\n",
        "                newPath.append(neighbor)\n",
        "                queue.append(newPath)\n",
        "            visited.add(node)\n",
        "    return []\n",
        "\n",
        "def dfs(graph, start, goal): ########## LIFO\n",
        "    stack=[[start]]\n",
        "    visited=set()\n",
        "    while stack:\n",
        "        path=stack.pop()\n",
        "        node=path[-1]\n",
        "        if node==goal:\n",
        "            return path\n",
        "        if node not in visited:\n",
        "            for neighbor in graph.getConnectedNodes(node):\n",
        "                newPath=list(path)\n",
        "                newPath.append(neighbor)\n",
        "                stack.append(newPath)\n",
        "            visited.add(node)\n",
        "    return []\n",
        "\n",
        "graph = Graph()\n",
        "graph.add('A', 'B')\n",
        "graph.add('A', 'C')\n",
        "graph.add('B', 'D')\n",
        "graph.add('C', 'D')\n",
        "graph.add('C', 'E')\n",
        "graph.add('D', 'E')\n",
        "\n",
        "print(bfs(graph, 'A', 'E'))\n",
        "print(dfs(graph, 'A', 'E'))"
      ],
      "metadata": {
        "colab": {
          "base_uri": "https://localhost:8080/"
        },
        "id": "Drt0PrnNfao_",
        "outputId": "65809ffd-bf25-4d83-d440-e0e9897cdf97"
      },
      "execution_count": null,
      "outputs": [
        {
          "output_type": "stream",
          "name": "stdout",
          "text": [
            "['A', 'C', 'E']\n",
            "['A', 'C', 'E']\n"
          ]
        }
      ]
    }
  ]
}