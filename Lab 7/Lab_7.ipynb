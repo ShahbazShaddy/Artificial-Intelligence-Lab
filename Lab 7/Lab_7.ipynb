{
  "nbformat": 4,
  "nbformat_minor": 0,
  "metadata": {
    "colab": {
      "provenance": []
    },
    "kernelspec": {
      "name": "python3",
      "display_name": "Python 3"
    },
    "language_info": {
      "name": "python"
    }
  },
  "cells": [
    {
      "cell_type": "markdown",
      "source": [
        "# **Lab 7**"
      ],
      "metadata": {
        "id": "0ZB8HDfIdWSe"
      }
    },
    {
      "cell_type": "markdown",
      "source": [
        "# Task 1: Data Preprocessing"
      ],
      "metadata": {
        "id": "GVlYcK6odeBy"
      }
    },
    {
      "cell_type": "code",
      "execution_count": null,
      "metadata": {
        "id": "j86MOYZ-bq86"
      },
      "outputs": [],
      "source": [
        "import pandas as pd\n",
        "import numpy as np\n",
        "from sklearn.datasets import load_iris, fetch_california_housing\n",
        "from sklearn.preprocessing import StandardScaler"
      ]
    },
    {
      "cell_type": "code",
      "source": [
        "iris = load_iris()\n",
        "df1 = pd.DataFrame(data=iris.data, columns=iris.feature_names)\n",
        "df1['target'] = iris.target\n",
        "\n",
        "print(df1.head())"
      ],
      "metadata": {
        "colab": {
          "base_uri": "https://localhost:8080/"
        },
        "id": "p7EeyY9zi19S",
        "outputId": "1ae2545a-976f-4120-c993-1104660dd032"
      },
      "execution_count": null,
      "outputs": [
        {
          "output_type": "stream",
          "name": "stdout",
          "text": [
            "   sepal length (cm)  sepal width (cm)  petal length (cm)  petal width (cm)  \\\n",
            "0                5.1               3.5                1.4               0.2   \n",
            "1                4.9               3.0                1.4               0.2   \n",
            "2                4.7               3.2                1.3               0.2   \n",
            "3                4.6               3.1                1.5               0.2   \n",
            "4                5.0               3.6                1.4               0.2   \n",
            "\n",
            "   target  \n",
            "0       0  \n",
            "1       0  \n",
            "2       0  \n",
            "3       0  \n",
            "4       0  \n"
          ]
        }
      ]
    },
    {
      "cell_type": "code",
      "source": [
        "X_iris = iris.data\n",
        "y_iris= iris.target"
      ],
      "metadata": {
        "id": "KCSEfYmKfAz-"
      },
      "execution_count": null,
      "outputs": []
    },
    {
      "cell_type": "code",
      "source": [
        "house =fetch_california_housing()\n",
        "df2=pd.DataFrame(house.data, columns=house.feature_names)\n",
        "df2['target'] = house.target\n",
        "print(df2.head())"
      ],
      "metadata": {
        "colab": {
          "base_uri": "https://localhost:8080/"
        },
        "id": "flm63FUMfWlv",
        "outputId": "b09387cf-0db2-4fcd-90ae-ffbc73a7df4e"
      },
      "execution_count": null,
      "outputs": [
        {
          "output_type": "stream",
          "name": "stdout",
          "text": [
            "   MedInc  HouseAge  AveRooms  AveBedrms  Population  AveOccup  Latitude  \\\n",
            "0  8.3252      41.0  6.984127   1.023810       322.0  2.555556     37.88   \n",
            "1  8.3014      21.0  6.238137   0.971880      2401.0  2.109842     37.86   \n",
            "2  7.2574      52.0  8.288136   1.073446       496.0  2.802260     37.85   \n",
            "3  5.6431      52.0  5.817352   1.073059       558.0  2.547945     37.85   \n",
            "4  3.8462      52.0  6.281853   1.081081       565.0  2.181467     37.85   \n",
            "\n",
            "   Longitude  target  \n",
            "0    -122.23   4.526  \n",
            "1    -122.22   3.585  \n",
            "2    -122.24   3.521  \n",
            "3    -122.25   3.413  \n",
            "4    -122.25   3.422  \n"
          ]
        }
      ]
    },
    {
      "cell_type": "code",
      "source": [
        "X_house = house.data\n",
        "y_house = house.target"
      ],
      "metadata": {
        "id": "cWilKXg7flwM"
      },
      "execution_count": null,
      "outputs": []
    },
    {
      "cell_type": "code",
      "source": [
        "print(df2.isnull().sum())"
      ],
      "metadata": {
        "colab": {
          "base_uri": "https://localhost:8080/"
        },
        "id": "XW-hXsaZf1Hp",
        "outputId": "56f1fd64-034d-4c10-d57a-fd86f8cdf5dc"
      },
      "execution_count": null,
      "outputs": [
        {
          "output_type": "stream",
          "name": "stdout",
          "text": [
            "MedInc        0\n",
            "HouseAge      0\n",
            "AveRooms      0\n",
            "AveBedrms     0\n",
            "Population    0\n",
            "AveOccup      0\n",
            "Latitude      0\n",
            "Longitude     0\n",
            "target        0\n",
            "dtype: int64\n"
          ]
        }
      ]
    },
    {
      "cell_type": "markdown",
      "source": [
        "Question 2"
      ],
      "metadata": {
        "id": "44glDPR9lIKZ"
      }
    },
    {
      "cell_type": "code",
      "source": [
        "scaler = StandardScaler()\n",
        "X_iris_scaled = scaler.fit_transform(X_iris)\n",
        "X_california_scaled = scaler.fit_transform(X_house)"
      ],
      "metadata": {
        "id": "pK8D4hthlJbR"
      },
      "execution_count": null,
      "outputs": []
    },
    {
      "cell_type": "code",
      "source": [
        "from sklearn.model_selection import train_test_split\n",
        "X_iris_train, X_iris_test, y_iris_train, y_iris_test = train_test_split(X_iris_scaled, y_iris, test_size=0.2, random_state=42)\n",
        "X_california_train, X_california_test, y_california_train, y_california_test = train_test_split(X_house, y_house, test_size=0.2, random_state=42)"
      ],
      "metadata": {
        "id": "YxWtMgVyllRq"
      },
      "execution_count": null,
      "outputs": []
    },
    {
      "cell_type": "markdown",
      "source": [
        "# **Task 2: Classification Algorithms**"
      ],
      "metadata": {
        "id": "mzQt7UcDmDxl"
      }
    },
    {
      "cell_type": "code",
      "source": [
        "from sklearn.neighbors import KNeighborsClassifier\n",
        "from sklearn.svm import SVC\n",
        "from sklearn.metrics import accuracy_score, classification_report"
      ],
      "metadata": {
        "id": "7sC3azqdmF7e"
      },
      "execution_count": null,
      "outputs": []
    },
    {
      "cell_type": "code",
      "source": [
        "knn = KNeighborsClassifier(n_neighbors=5)\n",
        "knn.fit(X_iris_train, y_iris_train)\n",
        "y_iris_pred = knn.predict(X_iris_test)\n",
        "print(\"k-NN accuracy:\", accuracy_score(y_iris_test, y_iris_pred))"
      ],
      "metadata": {
        "id": "9LzEoPL9mMIF"
      },
      "execution_count": null,
      "outputs": []
    }
  ]
}