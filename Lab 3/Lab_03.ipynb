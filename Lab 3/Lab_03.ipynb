{
  "nbformat": 4,
  "nbformat_minor": 0,
  "metadata": {
    "colab": {
      "provenance": []
    },
    "kernelspec": {
      "name": "python3",
      "display_name": "Python 3"
    },
    "language_info": {
      "name": "python"
    }
  },
  "cells": [
    {
      "cell_type": "markdown",
      "source": [
        "#**Task 01**"
      ],
      "metadata": {
        "id": "e_AqO_8HE5sA"
      }
    },
    {
      "cell_type": "markdown",
      "source": [
        "Simple Approach (Recursive - Brute Force)"
      ],
      "metadata": {
        "id": "nURYetQseIGr"
      }
    },
    {
      "cell_type": "code",
      "source": [
        "def edit_distance_recursive(str1, str2, m, n):\n",
        "    # Base cases\n",
        "    if m == 0:  # If first string is empty, insert all characters of second string\n",
        "        return n\n",
        "    if n == 0:  # If second string is empty, remove all characters of first string\n",
        "        return m\n",
        "\n",
        "    # If last characters are the same, no operation is needed\n",
        "    if str1[m - 1] == str2[n - 1]:\n",
        "        return edit_distance_recursive(str1, str2, m - 1, n - 1)\n",
        "\n",
        "    # If last characters are different, consider all operations:\n",
        "    # Insert, Remove, and Replace, and choose the one with the minimum cost\n",
        "    return 1 + min(\n",
        "        edit_distance_recursive(str1, str2, m, n - 1),    # Insert\n",
        "        edit_distance_recursive(str1, str2, m - 1, n),    # Remove\n",
        "        edit_distance_recursive(str1, str2, m - 1, n - 1) # Replace\n",
        "    )\n",
        "\n",
        "\n",
        "# Example usage\n",
        "str1 = \"kitten\"\n",
        "str2 = \"sitting\"\n",
        "m = len(str1)\n",
        "n = len(str2)\n",
        "\n",
        "print(\"Edit Distance (Recursive):\", edit_distance_recursive(str1, str2, m, n))\n"
      ],
      "metadata": {
        "colab": {
          "base_uri": "https://localhost:8080/"
        },
        "id": "Ry7vNCwQeHnp",
        "outputId": "bb621303-10c1-4856-c3e0-a56c67eca2cb"
      },
      "execution_count": null,
      "outputs": [
        {
          "output_type": "stream",
          "name": "stdout",
          "text": [
            "Edit Distance (Recursive): 4\n"
          ]
        }
      ]
    },
    {
      "cell_type": "markdown",
      "source": [
        "Dynamic Programming Approach:"
      ],
      "metadata": {
        "id": "8_ifwDwZeMZ_"
      }
    },
    {
      "cell_type": "code",
      "execution_count": null,
      "metadata": {
        "colab": {
          "base_uri": "https://localhost:8080/"
        },
        "id": "In9UA9QpfrEp",
        "outputId": "a03e7985-f25a-46de-dc7e-3b31a6630ff3"
      },
      "outputs": [
        {
          "output_type": "stream",
          "name": "stdout",
          "text": [
            "Edit Distance (DP): 3\n"
          ]
        }
      ],
      "source": [
        "def edit_distance_dp(str1, str2):\n",
        "    m = len(str1)\n",
        "    n = len(str2)\n",
        "\n",
        "    # Create a table to store results of subproblems\n",
        "    dp = [[0 for _ in range(n + 1)] for _ in range(m + 1)]\n",
        "\n",
        "    # Fill dp[][] in bottom-up manner\n",
        "    for i in range(m + 1):\n",
        "        for j in range(n + 1):\n",
        "            # If first string is empty, insert all characters of second string\n",
        "            if i == 0:\n",
        "                dp[i][j] = j  # Minimum operations = j (insert all characters)\n",
        "\n",
        "            # If second string is empty, remove all characters of first string\n",
        "            elif j == 0:\n",
        "                dp[i][j] = i  # Minimum operations = i (remove all characters)\n",
        "\n",
        "            # If last characters are the same, ignore last char and recur for remaining strings\n",
        "            elif str1[i - 1] == str2[j - 1]:\n",
        "                dp[i][j] = dp[i - 1][j - 1]\n",
        "\n",
        "            # If last characters are different, consider all possibilities and find the minimum\n",
        "            else:\n",
        "                dp[i][j] = 1 + min(dp[i][j - 1],    # Insert\n",
        "                                   dp[i - 1][j],    # Remove\n",
        "                                   dp[i - 1][j - 1]) # Replace\n",
        "\n",
        "    return dp[m][n]\n",
        "\n",
        "\n",
        "# Example usage\n",
        "str1 = \"kitten\"\n",
        "str2 = \"sitting\"\n",
        "print(\"Edit Distance (DP):\", edit_distance_dp(str1, str2))\n"
      ]
    },
    {
      "cell_type": "markdown",
      "source": [
        "# **Task 02**"
      ],
      "metadata": {
        "id": "bksp3WCpE-_S"
      }
    },
    {
      "cell_type": "markdown",
      "source": [
        "Simple Greedy Approach (Iterative):"
      ],
      "metadata": {
        "id": "hBKC1GeSe1fc"
      }
    },
    {
      "cell_type": "code",
      "source": [
        "def balance_brackets(s):\n",
        "    # Initialize counters for opening '(' and closing ')' brackets\n",
        "    open_needed = 0  # Unbalanced opening brackets\n",
        "    close_needed = 0  # Unbalanced closing brackets\n",
        "\n",
        "    # Traverse the string to count unbalanced brackets\n",
        "    for char in s:\n",
        "        if char == '(':\n",
        "            open_needed += 1  # We need a closing ')' for each '('\n",
        "        elif char == ')':\n",
        "            if open_needed > 0:\n",
        "                open_needed -= 1  # A '(' is balanced by this ')'\n",
        "            else:\n",
        "                close_needed += 1  # We have an unbalanced ')', so need an extra '('\n",
        "\n",
        "    # Add extra brackets at the beginning and end to balance the string\n",
        "    return '(' * close_needed + s + ')' * open_needed\n",
        "\n",
        "\n",
        "# Example usage\n",
        "input_str = \"(a+b(c)\"\n",
        "balanced_str = balance_brackets(input_str)\n",
        "print(\"Balanced String:\", balanced_str)\n"
      ],
      "metadata": {
        "colab": {
          "base_uri": "https://localhost:8080/"
        },
        "id": "e09KHtMLFChu",
        "outputId": "942e737a-b649-482e-d17a-69feed3fa2c3"
      },
      "execution_count": null,
      "outputs": [
        {
          "output_type": "stream",
          "name": "stdout",
          "text": [
            "Balanced String: (a+b(c))\n"
          ]
        }
      ]
    },
    {
      "cell_type": "markdown",
      "source": [
        "**Dynamic Programming Approach (Conceptual):**\n",
        "Though the greedy solution works in linear time, we can frame this problem using the concept of dynamic programming (subproblem and optimal solutions). But in practice, since this problem doesn't require overlapping subproblems or state memoization, the iterative greedy approach is optimal.\n",
        "\n",
        "Subproblem: At each character in the string, we compute how many unbalanced opening or closing brackets we have so far.\n",
        "Optimal Solution: The minimum number of extra ( or ) that need to be added to balance the string can be derived as we traverse the string."
      ],
      "metadata": {
        "id": "pkT_HuYkfRv_"
      }
    },
    {
      "cell_type": "markdown",
      "source": [
        "# **Task 03**"
      ],
      "metadata": {
        "id": "6PltVTAqiwa-"
      }
    },
    {
      "cell_type": "code",
      "source": [
        "# Function to calculate match/mismatch score\n",
        "def match_score(a, b):\n",
        "    if a == b:\n",
        "        return 1  # Reward for a match\n",
        "    else:\n",
        "        return -1  # Penalty for a mismatch\n",
        "\n",
        "# Function to implement Needleman-Wunsch Algorithm\n",
        "def needleman_wunsch(S, T, gap_penalty=-2):\n",
        "    n = len(S)\n",
        "    m = len(T)\n",
        "\n",
        "    # Initialize the DP matrix with zeros\n",
        "    F = [[0 for j in range(m + 1)] for i in range(n + 1)]\n",
        "\n",
        "    # Initialize the first row and column with gap penalties\n",
        "    for i in range(1, n + 1):\n",
        "        F[i][0] = i * gap_penalty\n",
        "    for j in range(1, m + 1):\n",
        "        F[0][j] = j * gap_penalty\n",
        "\n",
        "    # Fill the DP matrix\n",
        "    for i in range(1, n + 1):\n",
        "        for j in range(1, m + 1):\n",
        "            match = F[i-1][j-1] + match_score(S[i-1], T[j-1])  # Match/mismatch\n",
        "            delete = F[i-1][j] + gap_penalty  # Gap in T (delete from S)\n",
        "            insert = F[i][j-1] + gap_penalty  # Gap in S (insert in T)\n",
        "            F[i][j] = max(match, delete, insert)\n",
        "\n",
        "    # Traceback to find the optimal alignment\n",
        "    alignment_S = \"\"\n",
        "    alignment_T = \"\"\n",
        "    i, j = n, m\n",
        "\n",
        "    while i > 0 and j > 0:\n",
        "        score = F[i][j]\n",
        "        score_diag = F[i-1][j-1]\n",
        "        score_up = F[i-1][j]\n",
        "        score_left = F[i][j-1]\n",
        "\n",
        "        if score == score_diag + match_score(S[i-1], T[j-1]):\n",
        "            alignment_S = S[i-1] + alignment_S\n",
        "            alignment_T = T[j-1] + alignment_T\n",
        "            i -= 1\n",
        "            j -= 1\n",
        "        elif score == score_up + gap_penalty:\n",
        "            alignment_S = S[i-1] + alignment_S\n",
        "            alignment_T = \"-\" + alignment_T\n",
        "            i -= 1\n",
        "        elif score == score_left + gap_penalty:\n",
        "            alignment_S = \"-\" + alignment_S\n",
        "            alignment_T = T[j-1] + alignment_T\n",
        "            j -= 1\n",
        "\n",
        "    # If there are remaining characters in S or T, align them with gaps\n",
        "    while i > 0:\n",
        "        alignment_S = S[i-1] + alignment_S\n",
        "        alignment_T = \"-\" + alignment_T\n",
        "        i -= 1\n",
        "\n",
        "    while j > 0:\n",
        "        alignment_S = \"-\" + alignment_S\n",
        "        alignment_T = T[j-1] + alignment_T\n",
        "        j -= 1\n",
        "\n",
        "    # Return the final score and the aligned sequences\n",
        "    return F[n][m], alignment_S, alignment_T\n",
        "\n",
        "# Example usage\n",
        "S = \"GATTACA\"\n",
        "T = \"GCATGCU\"\n",
        "\n",
        "# Call the needleman_wunsch function\n",
        "score, aligned_S, aligned_T = needleman_wunsch(S, T)\n",
        "\n",
        "# Print the result\n",
        "print(f\"Optimal Alignment Score: {score}\")\n",
        "print(f\"Aligned Sequence 1: {aligned_S}\")\n",
        "print(f\"Aligned Sequence 2: {aligned_T}\")"
      ],
      "metadata": {
        "colab": {
          "base_uri": "https://localhost:8080/"
        },
        "id": "NtxjHpsRivwS",
        "outputId": "ad7b1ace-8d88-4ca1-ae7e-f2309c08c3d8"
      },
      "execution_count": null,
      "outputs": [
        {
          "output_type": "stream",
          "name": "stdout",
          "text": [
            "Optimal Alignment Score: -1\n",
            "Aligned Sequence 1: GATTACA\n",
            "Aligned Sequence 2: GCATGCU\n"
          ]
        }
      ]
    },
    {
      "cell_type": "markdown",
      "source": [
        "# **Task 04**"
      ],
      "metadata": {
        "id": "2RaKwUnuIPd-"
      }
    },
    {
      "cell_type": "markdown",
      "source": [
        "Simple Recursive Approach"
      ],
      "metadata": {
        "id": "PYxvnZYIhLuM"
      }
    },
    {
      "cell_type": "code",
      "source": [
        "def minCoins_rec(coins, N):\n",
        "    # Base case: If target amount is 0, no coins are needed\n",
        "    if N == 0:\n",
        "        return 0\n",
        "\n",
        "    # Initialize result to a large number (infinity)\n",
        "    result = float('inf')\n",
        "\n",
        "    # Recursively try all coins that are smaller than or equal to N\n",
        "    for coin in coins:\n",
        "        if coin <= N:\n",
        "            sub_result = minCoins_rec(coins, N - coin)\n",
        "\n",
        "            # If the sub-result is valid, take the minimum number of coins\n",
        "            if sub_result != float('inf'):\n",
        "                result = min(result, sub_result + 1)\n",
        "\n",
        "    return result\n",
        "\n",
        "# Example usage\n",
        "coins = [2,3]  # Available denominations\n",
        "N = 6          # Target amount\n",
        "min_coins = minCoins_rec(coins, N)\n",
        "print(f\"Minimum number of coins required: {min_coins if min_coins != float('inf') else -1}\")"
      ],
      "metadata": {
        "colab": {
          "base_uri": "https://localhost:8080/"
        },
        "id": "MUe34CPnhUm8",
        "outputId": "a4192ca7-59b6-4e7f-9557-04bbb2c2875c"
      },
      "execution_count": null,
      "outputs": [
        {
          "output_type": "stream",
          "name": "stdout",
          "text": [
            "Minimum number of coins required: 2\n"
          ]
        }
      ]
    },
    {
      "cell_type": "markdown",
      "source": [
        "Dynamic Programming"
      ],
      "metadata": {
        "id": "s5FPwSnyhF8a"
      }
    },
    {
      "cell_type": "code",
      "source": [
        "import math\n",
        "\n",
        "def minCoins(coins, amount):\n",
        "    # Create a DP array to store the minimum number of coins required for each amount from 0 to amount\n",
        "    dp = [math.inf] * (amount + 1)\n",
        "\n",
        "    # Base case: To make 0 amount, 0 coins are needed\n",
        "    dp[0] = 0j,ol\n",
        "\n",
        "    # Loop over each amount from 1 to amount\n",
        "    for i in range(1, amount + 1):\n",
        "        # Check for each coin in the list\n",
        "        for coin in coins:\n",
        "            if coin <= i:\n",
        "                # Update the dp value for the current amount\n",
        "                dp[i] = min(dp[i], dp[i - coin] + 1)\n",
        "\n",
        "    # If dp[amount] is still infinity, that means it's not possible to make the amount with the given coins\n",
        "    return dp[amount] if dp[amount] != math.inf else -1\n",
        "\n",
        "coins = [2,3]\n",
        "amount = 6\n",
        "print(f\"Coins: {coins}, Amount: {amount}, Minimum coins required: {minCoins(coins, amount)}\")  # Output: 2\n"
      ],
      "metadata": {
        "colab": {
          "base_uri": "https://localhost:8080/"
        },
        "id": "sVRfpMWGINK1",
        "outputId": "5d4e247c-7462-48d1-e78f-27e727130dab"
      },
      "execution_count": null,
      "outputs": [
        {
          "output_type": "stream",
          "name": "stdout",
          "text": [
            "Example 1\n",
            "Coins: [2, 3], Amount: 6, Minimum coins required: 2\n"
          ]
        }
      ]
    }
  ]
}